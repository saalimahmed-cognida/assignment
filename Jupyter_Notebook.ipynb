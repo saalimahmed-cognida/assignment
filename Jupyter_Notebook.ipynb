{
 "cells": [
  {
   "cell_type": "markdown",
   "metadata": {},
   "source": [
    "<center>\n",
    "    <img src=\"https://s3-api.us-geo.objectstorage.softlayer.net/cf-courses-data/CognitiveClass/Logos/organization_logo/organization_logo.png\" width=\"300\" alt=\"cognitiveclass.ai logo\"  />\n",
    "</center>\n"
   ]
  },
  {
   "cell_type": "markdown",
   "metadata": {},
   "source": [
    "#### Add your code below following the instructions given in the course\n"
   ]
  },
  {
   "cell_type": "markdown",
   "metadata": {},
   "source": [
    "<h1>My Jupyter Notebook on IBM Watson Studio</h1>"
   ]
  },
  {
   "cell_type": "markdown",
   "metadata": {},
   "source": [
    "<b>Md Saalim Ahmed</b></br>\n",
    "Software Developer"
   ]
  },
  {
   "cell_type": "markdown",
   "metadata": {},
   "source": [
    "<i>I look at it like a game of chess. There are problems to be solved, and questions to be answered. The data science challenges begins as a blank slate, with every conceivable route to data reporting available. Then, specific metrics we want to derive act as constraints that pare down the possibilities to just a handful. Once we know what data picture we want, there are still multiple ways to get there: the challenge and the fun of analytics work is creating an efficient path that doesn’t break and that creates trusted data.</i>"
   ]
  },
  {
   "cell_type": "markdown",
   "metadata": {},
   "source": [
    "<h3>The below code generates fibonacci series recursively</h3>"
   ]
  },
  {
   "cell_type": "code",
   "execution_count": 4,
   "metadata": {},
   "outputs": [
    {
     "name": "stdout",
     "output_type": "stream",
     "text": [
      "Fibonacci sequence: 0 1 1 2 3 5 8 13 21 34 "
     ]
    }
   ],
   "source": [
    "def fibonacci(n):\n",
    "   if n <= 1:\n",
    "       return n\n",
    "   else:\n",
    "       return fibonacci(n-1) + fibonacci(n-2) \n",
    "\n",
    "steps = 10\n",
    "\n",
    "print(\"Fibonacci sequence:\", end=\" \")\n",
    "for index in range(steps):\n",
    "    print(fibonacci(index), end=\" \")"
   ]
  },
  {
   "cell_type": "markdown",
   "metadata": {},
   "source": [
    "<h4 style=\"color:red; background:yellow; text-align:center\">Fibonacci Series</h4>\n",
    "<table>\n",
    "    <tr><th>S.No.</th><th>Sequence</th><th>Fibnocci Number</th></tr>\n",
    "    <tr><td>1</td><td>1</td><td>0</td></tr>\n",
    "    <tr><td>2</td><td>2</td><td>1</td></tr>\n",
    "    <tr><td>3</td><td>3</td><td>1</td></tr>\n",
    "    <tr><td>4</td><td>4</td><td>2</td></tr>\n",
    "    <tr><td>5</td><td>5</td><td>3</td></tr>\n",
    "</table>"
   ]
  },
  {
   "cell_type": "code",
   "execution_count": null,
   "metadata": {},
   "outputs": [],
   "source": []
  }
 ],
 "metadata": {
  "kernelspec": {
   "display_name": "Python 3 (ipykernel)",
   "language": "python",
   "name": "python3"
  },
  "language_info": {
   "codemirror_mode": {
    "name": "ipython",
    "version": 3
   },
   "file_extension": ".py",
   "mimetype": "text/x-python",
   "name": "python",
   "nbconvert_exporter": "python",
   "pygments_lexer": "ipython3",
   "version": "3.9.12"
  }
 },
 "nbformat": 4,
 "nbformat_minor": 4
}
